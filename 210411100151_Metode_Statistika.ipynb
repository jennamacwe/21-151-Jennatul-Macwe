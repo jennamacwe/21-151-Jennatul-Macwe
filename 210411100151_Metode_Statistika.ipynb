{
  "nbformat": 4,
  "nbformat_minor": 0,
  "metadata": {
    "colab": {
      "name": "210411100151 Metode Statistika.ipynb",
      "provenance": [],
      "collapsed_sections": [],
      "authorship_tag": "ABX9TyOghdksytKripbmtI0LMjBw",
      "include_colab_link": true
    },
    "kernelspec": {
      "name": "python3",
      "display_name": "Python 3"
    },
    "language_info": {
      "name": "python"
    }
  },
  "cells": [
    {
      "cell_type": "markdown",
      "metadata": {
        "id": "view-in-github",
        "colab_type": "text"
      },
      "source": [
        "<a href=\"https://colab.research.google.com/github/jennamacwe/21-151-Jennatul-Macwe/blob/main/210411100151_Metode_Statistika.ipynb\" target=\"_parent\"><img src=\"https://colab.research.google.com/assets/colab-badge.svg\" alt=\"Open In Colab\"/></a>"
      ]
    },
    {
      "cell_type": "markdown",
      "source": [
        "# EXPONENTIAL SMOOTHING"
      ],
      "metadata": {
        "id": "mKa1GTJJFseo"
      }
    },
    {
      "cell_type": "markdown",
      "source": [
        "**PENGERTIAN**\n",
        "\n",
        "\n",
        "\n",
        "> Exponential smoothing merupakan peralaman yang mengikuti pola fluktuasi data yang diobservasi pada suatu periode untuk ramalan pada masa yang akan datang dengan cara melicinkan atau disebut smoothing, dan mengurangi fluktuasi ramalan tersebut (Wardhani & Pereira, 2010).\n",
        "\n",
        "**CARA MENGHITUNG EXPONENTIAL SMOOTHING**\n",
        "\n",
        "\n",
        "> Menghitung dengan menggunakan Metode Peramalan dengan Exponential Smoothing, yaitu dengan memasukan prakiraan permintaan sekarang dengan data permintaan nyata atau data permintaan aktual ke dalam rumus Exponential Smoothing. Berikut ini adalah rumus untuk menghitung exponential smoothing :\n",
        "\n",
        "\n",
        "> **Ft = Ft – 1 + α (Dt-1 – Ft-1)**\n",
        "\n",
        "> Keterangan :\n",
        "* Ft = Prakiraan Permintaan sekarang\n",
        "* Ft-1 = Prakiraan Permintaan yang lalu\n",
        "* α = Konstanta Eksponensial\n",
        "* Dt-1 = Permintaan Nyata\n",
        "\n",
        "\n",
        "\n",
        "\n",
        "\n",
        "\n",
        "\n",
        "\n"
      ],
      "metadata": {
        "id": "bsuELmO8FxqN"
      }
    },
    {
      "cell_type": "markdown",
      "source": [
        "**CONTOH MENGHITUNG FORECAST DENGAN EXPONENTIAL SMOOTHING**\n",
        "\n",
        "\n",
        "> sebuah pabrik pencetak sandal ingin memprediksi penjualan box sandal pada bulan berikutnya yaitu bulan juli dengan menggunakan Metode forecast Exponential Smoothing dan menggunakan konstanta 0.8\n",
        "\n"
      ],
      "metadata": {
        "id": "nLPxaWXtWUwT"
      }
    },
    {
      "cell_type": "code",
      "source": [
        "from google.colab import files\n",
        "uploaded = files.upload()"
      ],
      "metadata": {
        "colab": {
          "resources": {
            "http://localhost:8080/nbextensions/google.colab/files.js": {
              "data": "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",
              "ok": true,
              "headers": [
                [
                  "content-type",
                  "application/javascript"
                ]
              ],
              "status": 200,
              "status_text": ""
            }
          },
          "base_uri": "https://localhost:8080/",
          "height": 74
        },
        "id": "ghfzDSDW86aj",
        "outputId": "fe6030f4-00d3-4ecd-cd8a-3386b91a8ffd"
      },
      "execution_count": null,
      "outputs": [
        {
          "output_type": "display_data",
          "data": {
            "text/plain": [
              "<IPython.core.display.HTML object>"
            ],
            "text/html": [
              "\n",
              "     <input type=\"file\" id=\"files-713f5310-03cb-4c36-9f9d-372ab3fdfd6e\" name=\"files[]\" multiple disabled\n",
              "        style=\"border:none\" />\n",
              "     <output id=\"result-713f5310-03cb-4c36-9f9d-372ab3fdfd6e\">\n",
              "      Upload widget is only available when the cell has been executed in the\n",
              "      current browser session. Please rerun this cell to enable.\n",
              "      </output>\n",
              "      <script src=\"/nbextensions/google.colab/files.js\"></script> "
            ]
          },
          "metadata": {}
        },
        {
          "output_type": "stream",
          "name": "stdout",
          "text": [
            "Saving exponential smoothing.csv to exponential smoothing.csv\n"
          ]
        }
      ]
    },
    {
      "cell_type": "code",
      "source": [
        "import numpy as np\n",
        "import matplotlib.pyplot as plt\n",
        "import pandas as pd"
      ],
      "metadata": {
        "id": "efqCm5Ag823p"
      },
      "execution_count": null,
      "outputs": []
    },
    {
      "cell_type": "code",
      "source": [
        "x = pd.read_csv('exponential smoothing.csv')\n",
        "x['tahun']=pd.to_datetime(x['tahun'])\n",
        "print(x.to_string())"
      ],
      "metadata": {
        "colab": {
          "base_uri": "https://localhost:8080/"
        },
        "id": "-Lw4zKxKR0mL",
        "outputId": "d6d11599-7c16-4dae-99b2-1b5b86c9d1db"
      },
      "execution_count": null,
      "outputs": [
        {
          "output_type": "stream",
          "name": "stdout",
          "text": [
            "      NO      tahun  data aktual  data perkiraan\n",
            "0      1 2003-08-22         46.0       46.000000\n",
            "1      2 2003-09-22         49.0       46.000000\n",
            "2      3 2003-10-22         51.0       48.400000\n",
            "3      4 2003-11-22         56.0       50.480000\n",
            "4      5 2003-12-22         54.0       54.896000\n",
            "5      6 2004-01-22         58.0       54.179200\n",
            "6      7 2004-02-22         61.0       57.235840\n",
            "7      8 2004-03-22         65.0       60.247168\n",
            "8      9 2004-04-22         68.0       64.049434\n",
            "9     10 2004-05-22         72.0       67.209887\n",
            "10    11 2004-06-22         75.0       71.041977\n",
            "11    12 2004-07-22         78.0       74.208395\n",
            "12    13 2004-08-22         82.0       77.241679\n",
            "13    14 2004-09-22         86.0       81.048336\n",
            "14    15 2004-10-22         89.0       85.009667\n",
            "15    16 2004-11-22         94.0       88.201933\n",
            "16    17 2004-12-22         93.0       92.840387\n",
            "17    18 2005-01-22         96.0       92.968077\n",
            "18    19 2005-02-22        120.0       95.393615\n",
            "19    20 2005-03-22        126.0      115.078723\n",
            "20    21 2005-04-22        134.0      123.815745\n",
            "21    22 2005-05-22        141.0      131.963149\n",
            "22    23 2005-06-22        149.0      139.192630\n",
            "23    24 2005-07-22        146.0      147.038526\n",
            "24    25 2005-08-22        152.0      146.207705\n",
            "25    26 2005-09-22        156.0      150.841541\n",
            "26    27 2005-10-22        152.0      154.968308\n",
            "27    28 2005-11-22        158.0      152.593662\n",
            "28    29 2005-12-22        165.0      156.918732\n",
            "29    30 2006-01-22        161.0      163.383747\n",
            "30    31 2006-02-22        168.0      161.476749\n",
            "31    32 2006-03-22        166.0      166.695350\n",
            "32    33 2006-04-22        167.0      166.139070\n",
            "33    34 2006-05-22        169.0      166.827814\n",
            "34    35 2006-06-22        171.0      168.565563\n",
            "35    36 2006-07-22        175.0      170.513113\n",
            "36    37 2006-08-22        173.0      174.102622\n",
            "37    38 2006-09-22        175.0      173.220525\n",
            "38    39 2006-10-22        179.0      174.644105\n",
            "39    40 2006-11-22        177.0      178.128821\n",
            "40    41 2006-12-22        180.0      177.225764\n",
            "41    42 2007-01-22        189.0      179.445153\n",
            "42    43 2007-02-22        184.0      187.089031\n",
            "43    44 2007-03-22        186.0      184.617806\n",
            "44    45 2007-04-22        185.0      185.723561\n",
            "45    46 2007-05-22        189.0      185.144712\n",
            "46    47 2007-06-22        188.0      188.228942\n",
            "47    48 2007-07-22        182.0      188.045788\n",
            "48    49 2007-08-22        187.0      183.209158\n",
            "49    50 2007-09-22        189.0      186.241831\n",
            "50    51 2007-10-22        187.0      188.448366\n",
            "51    52 2007-11-22        190.0      187.289673\n",
            "52    53 2007-12-22        189.0      189.457935\n",
            "53    54 2008-01-22        193.0      189.091587\n",
            "54    55 2008-02-22        192.0      192.218317\n",
            "55    56 2008-03-22        194.0      192.043664\n",
            "56    57 2008-04-22        196.0      193.608733\n",
            "57    58 2008-05-22        198.0      195.521747\n",
            "58    59 2008-06-22        196.0      197.504349\n",
            "59    60 2008-07-22        198.0      196.300870\n",
            "60    61 2008-08-22        199.0      197.660174\n",
            "61    62 2008-09-22        201.0      198.732035\n",
            "62    63 2008-10-22        200.0      200.546407\n",
            "63    64 2008-11-22        205.0      200.109281\n",
            "64    65 2008-12-22        204.0      204.021856\n",
            "65    66 2009-01-22        206.0      204.004371\n",
            "66    67 2009-02-22        208.0      205.600874\n",
            "67    68 2009-03-22        209.0      207.520175\n",
            "68    69 2009-04-22        208.0      208.704035\n",
            "69    70 2009-05-22        211.0      208.140807\n",
            "70    71 2009-06-22        210.0      210.428161\n",
            "71    72 2009-07-22        216.0      210.085632\n",
            "72    73 2009-08-22        214.0      214.817127\n",
            "73    74 2009-09-22        217.0      214.163425\n",
            "74    75 2009-10-22        225.0      216.432685\n",
            "75    76 2009-11-22        221.0      223.286537\n",
            "76    77 2009-12-22        223.0      221.457307\n",
            "77    78 2010-01-22        226.0      222.691462\n",
            "78    79 2010-02-22        224.0      225.338292\n",
            "79    80 2010-03-22        228.0      224.267659\n",
            "80    81 2010-04-22        224.0      227.253532\n",
            "81    82 2010-05-22        226.0      224.650706\n",
            "82    83 2010-06-22        229.0      225.730141\n",
            "83    84 2010-07-22        229.0      228.346028\n",
            "84    85 2010-08-22        228.0      228.869206\n",
            "85    86 2010-09-22        235.0      228.173841\n",
            "86    87 2010-10-22        231.0      233.634768\n",
            "87    88 2010-11-22        234.0      231.526954\n",
            "88    89 2010-12-22        235.0      233.505391\n",
            "89    90 2011-01-22        236.0      234.701078\n",
            "90    91 2011-02-22        235.0      235.740216\n",
            "91    92 2011-03-22        237.0      235.148043\n",
            "92    93 2011-04-22        236.0      236.629609\n",
            "93    94 2011-05-22        238.0      236.125922\n",
            "94    95 2011-06-22        239.0      237.625184\n",
            "95    96 2011-07-22        239.0      238.725037\n",
            "96    97 2011-08-22        237.0      238.945007\n",
            "97    98 2011-09-22        240.0      237.389002\n",
            "98    99 2011-10-22        239.0      239.477800\n",
            "99   100 2011-11-22        241.0      239.095560\n",
            "100  101 2011-12-22        243.0      240.619112\n",
            "101  102 2012-01-22        245.0      242.523822\n",
            "102  103 2012-02-22        249.0      244.504764\n",
            "103  104 2012-03-22        248.0      248.100953\n",
            "104  105 2012-04-22        248.0      248.020191\n",
            "105  106 2012-05-22        249.0      248.004038\n",
            "106  107 2012-06-22        253.0      248.800808\n",
            "107  108 2012-07-22        252.0      252.160161\n",
            "108  109 2012-08-22        253.0      252.032032\n",
            "109  110 2012-09-22        256.0      252.806407\n",
            "110  111 2012-10-22        257.0      255.361281\n",
            "111  112 2012-11-22        259.0      256.672256\n",
            "112  113 2012-12-22        264.0      258.534451\n",
            "113  114 2013-01-22        263.0      262.906890\n",
            "114  115 2013-02-22        269.0      262.981378\n",
            "115  116 2013-03-22        268.0      267.796276\n",
            "116  117 2013-04-22        320.0      267.959255\n",
            "117  118 2013-05-22        356.0      309.591851\n",
            "118  119 2013-06-22        342.0      346.718370\n",
            "119  120 2013-07-22        378.0      342.943674\n",
            "120  121 2013-08-22        368.0      370.988735\n",
            "121  122 2013-09-22        390.0      368.597747\n",
            "122  123 2013-10-22        400.0      385.719549\n",
            "123  124 2013-11-22        441.0      397.143910\n",
            "124  125 2013-12-22        429.0      432.228782\n",
            "125  126 2014-01-22        438.0      429.645756\n",
            "126  127 2014-02-22        442.0      436.329151\n",
            "127  128 2014-03-22        490.0      440.865830\n",
            "128  129 2014-04-22        530.0      480.173166\n",
            "129  130 2014-05-22        534.0      520.034633\n",
            "130  131 2014-06-22        564.0      531.206927\n",
            "131  132 2014-07-22        550.0      557.441385\n",
            "132  133 2014-08-22        550.0      551.488277\n",
            "133  134 2014-09-22        568.0      550.297655\n",
            "134  135 2014-10-22        561.0      564.459531\n",
            "135  136 2014-11-22        563.0      561.691906\n",
            "136  137 2014-12-22        578.0      562.738381\n",
            "137  138 2015-01-22        561.0      574.947676\n",
            "138  139 2015-02-22        584.0      563.789535\n",
            "139  140 2015-03-22        580.0      579.957907\n",
            "140  141 2015-04-22        590.0      579.991581\n",
            "141  142 2015-05-22        630.0      587.998316\n",
            "142  143 2015-06-22        610.0      621.599663\n",
            "143  144 2015-07-22        643.0      612.319933\n",
            "144  145 2015-08-22        680.0      636.863987\n",
            "145  146 2015-09-22        652.0      671.372797\n",
            "146  147 2015-10-22        664.0      655.874560\n",
            "147  148 2015-11-22        699.0      662.374912\n",
            "148  149 2015-12-22        726.0      691.674982\n",
            "149  150 2016-01-22        698.0      719.134997\n",
            "150  151 2016-02-22        716.0      702.226999\n",
            "151  152 2016-03-22        734.0      713.245400\n",
            "152  153 2016-04-22        741.0      729.849080\n",
            "153  154 2016-05-22        736.0      738.769816\n",
            "154  155 2016-06-22        745.0      736.553963\n",
            "155  156 2016-07-22        742.0      743.310793\n",
            "156  157 2016-08-22        752.0      742.262159\n",
            "157  158 2016-09-22        768.0      750.052432\n",
            "158  159 2016-10-22        757.0      764.410486\n",
            "159  160 2016-11-22        746.0      758.482097\n",
            "160  161 2016-12-22        759.0      748.496420\n",
            "161  162 2017-01-22        765.0      756.899284\n",
            "162  163 2017-02-22        780.0      763.379857\n",
            "163  164 2017-03-22        776.0      776.675971\n",
            "164  165 2017-04-22        784.0      776.135194\n",
            "165  166 2017-05-22        799.0      782.427039\n",
            "166  167 2017-06-22        821.0      795.685408\n",
            "167  168 2017-07-22        832.0      815.937082\n",
            "168  169 2017-08-22        825.0      828.787416\n",
            "169  170 2017-09-22        826.0      825.757483\n",
            "170  171 2017-10-22        829.0      825.951497\n",
            "171  172 2017-11-22        839.0      828.390299\n",
            "172  173 2017-12-22        846.0      836.878060\n",
            "173  174 2018-01-22        848.0      844.175612\n",
            "174  175 2018-02-22        853.0      847.235122\n",
            "175  176 2018-03-22        864.0      851.847024\n",
            "176  177 2018-04-22        873.0      861.569405\n",
            "177  178 2018-05-22        910.0      870.713881\n",
            "178  179 2018-06-22        943.0      902.142776\n",
            "179  180 2018-07-22        952.0      934.828555\n",
            "180  181 2018-08-22        964.0      948.565711\n",
            "181  182 2018-09-22        956.0      960.913142\n",
            "182  183 2018-10-22        964.0      956.982628\n",
            "183  184 2018-11-22        982.0      962.596526\n",
            "184  185 2018-12-22        988.0      978.119305\n",
            "185  186 2019-01-22       1011.0      986.023861\n",
            "186  187 2019-02-22       1012.0     1006.004772\n",
            "187  188 2019-03-22       1034.0     1010.800954\n",
            "188  189 2019-04-22       1056.0     1029.360191\n",
            "189  190 2019-05-22       1058.0     1050.672038\n",
            "190  191 2019-06-22       1057.0     1056.534408\n",
            "191  192 2019-07-22       1056.0     1056.906882\n",
            "192  193 2019-08-22       1057.0     1056.181376\n",
            "193  194 2019-09-22       1059.0     1056.836275\n",
            "194  195 2019-10-22       1069.0     1058.567255\n",
            "195  196 2019-11-22       1080.0     1066.913451\n",
            "196  197 2019-12-22       1084.0     1077.382690\n",
            "197  198 2020-01-22       1083.0     1082.676538\n",
            "198  199 2020-02-22       1090.0     1082.935308\n",
            "199  200 2020-03-22       1112.0     1088.587062\n",
            "200  201 2020-04-22       1123.0     1107.317412\n",
            "201  202 2020-05-22       1126.0     1119.863482\n",
            "202  203 2020-06-22       1123.0     1124.772696\n",
            "203  204 2020-07-22       1124.0     1123.354539\n",
            "204  205 2020-08-22       1265.0     1123.870908\n",
            "205  206 2020-09-22       1458.0     1236.774182\n",
            "206  207 2020-10-22       1532.0     1413.754836\n",
            "207  208 2020-11-22       1759.0     1508.350967\n",
            "208  209 2020-12-22       1825.0     1708.870193\n",
            "209  210 2021-01-22       1980.0     1801.774039\n",
            "210  211 2021-02-22       2355.0     1944.354808\n",
            "211  212 2021-03-22       2000.0     2272.870962\n",
            "212  213 2021-04-22       2459.0     2054.574192\n",
            "213  214 2021-05-22       2679.0     2378.114838\n",
            "214  215 2021-06-22       2751.0     2618.822968\n",
            "215  216 2021-07-22       2946.0     2724.564594\n",
            "216  217 2021-08-22       3026.0     2901.712919\n",
            "217  218 2021-09-22       3249.0     3001.142584\n",
            "218  219 2021-10-22       3589.0     3199.428517\n",
            "219  220 2021-11-22       3842.0     3511.085703\n",
            "220  221 2021-12-22       4053.0     3775.817141\n",
            "221  222 2022-01-22       4293.0     3997.563428\n",
            "222  223 2022-02-22       4682.0     4233.912686\n",
            "223  224 2022-03-22       4816.0     4592.382537\n",
            "224  225 2022-04-22       4944.0     4771.276507\n",
            "225  226 2022-05-22       5649.0     4909.455301\n",
            "226  227 2022-06-22       5900.0     5501.091060\n",
            "227  227 2022-07-22          NaN     5820.218212\n"
          ]
        }
      ]
    },
    {
      "cell_type": "code",
      "source": [
        "plt.plot(x['tahun'], x['data aktual'], label='data aktual')\n",
        "plt.plot(x['tahun'], x['data perkiraan'], label='data perkiraan')\n",
        "plt.xlabel('Tahun')\n",
        "plt.ylabel('penjualan')\n",
        "plt.title('Exponential Smoothing \\n Penjualan box Sandal di tahun 2002-2022')\n",
        "plt.grid(True)\n",
        "plt.legend()"
      ],
      "metadata": {
        "colab": {
          "base_uri": "https://localhost:8080/",
          "height": 327
        },
        "id": "jOGEiCZV9IXv",
        "outputId": "09743b0f-3a9d-47ca-cde3-b466ba2097df"
      },
      "execution_count": null,
      "outputs": [
        {
          "output_type": "execute_result",
          "data": {
            "text/plain": [
              "<matplotlib.legend.Legend at 0x7ff6624ea210>"
            ]
          },
          "metadata": {},
          "execution_count": 19
        },
        {
          "output_type": "display_data",
          "data": {
            "text/plain": [
              "<Figure size 432x288 with 1 Axes>"
            ],
            "image/png": "[encoded data removed]"
          },
          "metadata": {
            "needs_background": "light"
          }
        }
      ]
    },
    {
      "cell_type": "markdown",
      "source": [
        "# MOVING AVERAGE"
      ],
      "metadata": {
        "id": "URSfEj-QPZjG"
      }
    },
    {
      "cell_type": "markdown",
      "source": [
        "**Pengertian**\n",
        "\n",
        "\n",
        "> Moving Average  atau  dalam  bahasa Indonesia  disebut  dengan  rata-rata  bergerak adalah  salah  satu  metode  peramalan  bisnis yang  sederhana  dan  sering  digunakan  untuk memperkirakan   kondisi   pada   masa   yang akan datang dengan menggunakan kumpulan   data-data   masa   lalu   (data-data historis).   \n",
        "\n",
        ">  Pengertian   moving average    atau    rata-rata    bergerak    adalah metode  peramalan  yang  menghitung  rata-rata  suatu  nilai  runtut  waktu  dan  kemudian digunakan  untuk memperkirakan  nilai  pada periode  selanjutnya.  Moving  Average  atau rata-rata bergerak diperoleh melalui penjumlahan  dan  pencarian  nilai  rata-rata dari   sejumlah   periode   tertentu,   kemudian menghilangkan nilai terlamanya dan menambah    nilai    baru\n",
        "\n",
        "**CARA MENGHITUNG MOOVING EVERAGE**\n",
        "\n",
        "\n",
        "\n",
        "> Ft = jumlah data ke-n periode sebelumnya/n\n",
        "\n",
        "> Ft = At(n) + At(2) + ... + At(n) / n\n",
        "\n",
        "\n",
        "\n",
        "> Keterangan :\n",
        "* Ft = forecast untuk periode yang akan datang\n",
        "* n = Jumlah periode peramalan moving average\n",
        "* At(1) = Data aktual satu periode sebelum peramalan\n",
        "* At(2) = Data aktual dua periode sebelum peramalan\n",
        "* At(n) = Data aktual ke-n sebelum peramalan\n",
        "\n",
        "\n",
        "\n",
        "\n",
        "\n",
        "\n",
        "\n",
        "\n",
        "\n",
        "\n",
        "\n"
      ],
      "metadata": {
        "id": "5wrZkjRZPest"
      }
    },
    {
      "cell_type": "markdown",
      "source": [
        "**CONTOH MENGHITUNG FORECAST DENGAN MOVING AVERAGE**\n",
        "\n",
        "\n",
        "> sebuah pabrik pencetak sandal ingin memprediksi penjualan box sandal pada bulan berikutnya yaitu bulan juli dengan menggunakan Metode forecast Moving\n",
        "\n"
      ],
      "metadata": {
        "id": "doPjRnXxuqNq"
      }
    },
    {
      "cell_type": "code",
      "execution_count": null,
      "metadata": {
        "colab": {
          "resources": {
            "http://localhost:8080/nbextensions/google.colab/files.js": {
              "data": "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",
              "ok": true,
              "headers": [
                [
                  "content-type",
                  "application/javascript"
                ]
              ],
              "status": 200,
              "status_text": ""
            }
          },
          "base_uri": "https://localhost:8080/",
          "height": 74
        },
        "id": "JPodVxmq19hn",
        "outputId": "4d64d1fd-bc77-45ef-f793-c88d070a5035"
      },
      "outputs": [
        {
          "output_type": "display_data",
          "data": {
            "text/plain": [
              "<IPython.core.display.HTML object>"
            ],
            "text/html": [
              "\n",
              "     <input type=\"file\" id=\"files-72122798-3467-4eb3-9218-949abc869d12\" name=\"files[]\" multiple disabled\n",
              "        style=\"border:none\" />\n",
              "     <output id=\"result-72122798-3467-4eb3-9218-949abc869d12\">\n",
              "      Upload widget is only available when the cell has been executed in the\n",
              "      current browser session. Please rerun this cell to enable.\n",
              "      </output>\n",
              "      <script src=\"/nbextensions/google.colab/files.js\"></script> "
            ]
          },
          "metadata": {}
        },
        {
          "output_type": "stream",
          "name": "stdout",
          "text": [
            "Saving METODEstat.csv to METODEstat (2).csv\n"
          ]
        }
      ],
      "source": [
        "from google.colab import files\n",
        "uploaded = files.upload()"
      ]
    },
    {
      "cell_type": "code",
      "source": [
        "import numpy as np\n",
        "import matplotlib.pyplot as plt\n",
        "import pandas as pd\n",
        "\n",
        "x = pd.read_csv('METODEstat (2).csv')\n",
        "x['tahun']=pd.to_datetime(x['tahun'])\n",
        "print(x.to_string())"
      ],
      "metadata": {
        "colab": {
          "base_uri": "https://localhost:8080/"
        },
        "id": "GekQdMRe2JgQ",
        "outputId": "ebff2ac2-e8a8-4438-924c-28503846fbe8"
      },
      "execution_count": null,
      "outputs": [
        {
          "output_type": "stream",
          "name": "stdout",
          "text": [
            "      NO      tahun  data aktual  data prediksi\n",
            "0      1 2003-08-22           46            NaN\n",
            "1      2 2003-09-22           49            NaN\n",
            "2      3 2003-10-22           51            NaN\n",
            "3      4 2003-11-22           56      48.666667\n",
            "4      5 2003-12-22           54      52.000000\n",
            "5      6 2004-01-22           58      53.666667\n",
            "6      7 2004-02-22           61      56.000000\n",
            "7      8 2004-03-22           65      57.666667\n",
            "8      9 2004-04-22           68      61.333333\n",
            "9     10 2004-05-22           72      64.666667\n",
            "10    11 2004-06-22           75      68.333333\n",
            "11    12 2004-07-22           78      71.666667\n",
            "12    13 2004-08-22           82      75.000000\n",
            "13    14 2004-09-22           86      78.333333\n",
            "14    15 2004-10-22           89      82.000000\n",
            "15    16 2004-11-22           94      85.666667\n",
            "16    17 2004-12-22           93      89.666667\n",
            "17    18 2005-01-22           96      92.000000\n",
            "18    19 2005-02-22          120      94.333333\n",
            "19    20 2005-03-22          126     103.000000\n",
            "20    21 2005-04-22          134     114.000000\n",
            "21    22 2005-05-22          141     126.666667\n",
            "22    23 2005-06-22          149     133.666667\n",
            "23    24 2005-07-22          146     141.333333\n",
            "24    25 2005-08-22          152     145.333333\n",
            "25    26 2005-09-22          156     149.000000\n",
            "26    27 2005-10-22          152     151.333333\n",
            "27    28 2005-11-22          158     153.333333\n",
            "28    29 2005-12-22          165     155.333333\n",
            "29    30 2006-01-22          161     158.333333\n",
            "30    31 2006-02-22          168     161.333333\n",
            "31    32 2006-03-22          166     164.666667\n",
            "32    33 2006-04-22          167     165.000000\n",
            "33    34 2006-05-22          169     167.000000\n",
            "34    35 2006-06-22          171     167.333333\n",
            "35    36 2006-07-22          175     169.000000\n",
            "36    37 2006-08-22          173     171.666667\n",
            "37    38 2006-09-22          175     173.000000\n",
            "38    39 2006-10-22          179     174.333333\n",
            "39    40 2006-11-22          177     175.666667\n",
            "40    41 2006-12-22          180     177.000000\n",
            "41    42 2007-01-22          189     178.666667\n",
            "42    43 2007-02-22          184     182.000000\n",
            "43    44 2007-03-22          186     184.333333\n",
            "44    45 2007-04-22          185     186.333333\n",
            "45    46 2007-05-22          189     185.000000\n",
            "46    47 2007-06-22          188     186.666667\n",
            "47    48 2007-07-22          182     187.333333\n",
            "48    49 2007-08-22          187     186.333333\n",
            "49    50 2007-09-22          189     185.666667\n",
            "50    51 2007-10-22          187     186.000000\n",
            "51    52 2007-11-22          190     187.666667\n",
            "52    53 2007-12-22          189     188.666667\n",
            "53    54 2008-01-22          193     188.666667\n",
            "54    55 2008-02-22          192     190.666667\n",
            "55    56 2008-03-22          194     191.333333\n",
            "56    57 2008-04-22          196     193.000000\n",
            "57    58 2008-05-22          198     194.000000\n",
            "58    59 2008-06-22          196     196.000000\n",
            "59    60 2008-07-22          198     196.666667\n",
            "60    61 2008-08-22          199     197.333333\n",
            "61    62 2008-09-22          201     197.666667\n",
            "62    63 2008-10-22          200     199.333333\n",
            "63    64 2008-11-22          205     200.000000\n",
            "64    65 2008-12-22          204     202.000000\n",
            "65    66 2009-01-22          206     203.000000\n",
            "66    67 2009-02-22          208     205.000000\n",
            "67    68 2009-03-22          209     206.000000\n",
            "68    69 2009-04-22          208     207.666667\n",
            "69    70 2009-05-22          211     208.333333\n",
            "70    71 2009-06-22          210     209.333333\n",
            "71    72 2009-07-22          216     209.666667\n",
            "72    73 2009-08-22          214     212.333333\n",
            "73    74 2009-09-22          217     213.333333\n",
            "74    75 2009-10-22          225     215.666667\n",
            "75    76 2009-11-22          221     218.666667\n",
            "76    77 2009-12-22          223     221.000000\n",
            "77    78 2010-01-22          226     223.000000\n",
            "78    79 2010-02-22          224     223.333333\n",
            "79    80 2010-03-22          228     224.333333\n",
            "80    81 2010-04-22          224     226.000000\n",
            "81    82 2010-05-22          226     225.333333\n",
            "82    83 2010-06-22          229     226.000000\n",
            "83    84 2010-07-22          229     226.333333\n",
            "84    85 2010-08-22          228     228.000000\n",
            "85    86 2010-09-22          235     228.666667\n",
            "86    87 2010-10-22          231     230.666667\n",
            "87    88 2010-11-22          234     231.333333\n",
            "88    89 2010-12-22          235     233.333333\n",
            "89    90 2011-01-22          236     233.333333\n",
            "90    91 2011-02-22          235     235.000000\n",
            "91    92 2011-03-22          237     235.333333\n",
            "92    93 2011-04-22          236     236.000000\n",
            "93    94 2011-05-22          238     236.000000\n",
            "94    95 2011-06-22          239     237.000000\n",
            "95    96 2011-07-22          239     237.666667\n",
            "96    97 2011-08-22          237     238.666667\n",
            "97    98 2011-09-22          240     238.333333\n",
            "98    99 2011-10-22          239     238.666667\n",
            "99   100 2011-11-22          241     238.666667\n",
            "100  101 2011-12-22          243     240.000000\n",
            "101  102 2012-01-22          245     241.000000\n",
            "102  103 2012-02-22          249     243.000000\n",
            "103  104 2012-03-22          248     245.666667\n",
            "104  105 2012-04-22          248     247.333333\n",
            "105  106 2012-05-22          249     248.333333\n",
            "106  107 2012-06-22          253     248.333333\n",
            "107  108 2012-07-22          252     250.000000\n",
            "108  109 2012-08-22          253     251.333333\n",
            "109  110 2012-09-22          256     252.666667\n",
            "110  111 2012-10-22          257     253.666667\n",
            "111  112 2012-11-22          259     255.333333\n",
            "112  113 2012-12-22          264     257.333333\n",
            "113  114 2013-01-22          263     260.000000\n",
            "114  115 2013-02-22          269     262.000000\n",
            "115  116 2013-03-22          268     265.333333\n",
            "116  117 2013-04-22          320     266.666667\n",
            "117  118 2013-05-22          356     285.666667\n",
            "118  119 2013-06-22          342     314.666667\n",
            "119  120 2013-07-22          378     339.333333\n",
            "120  121 2013-08-22          368     358.666667\n",
            "121  122 2013-09-22          390     362.666667\n",
            "122  123 2013-10-22          400     378.666667\n",
            "123  124 2013-11-22          441     386.000000\n",
            "124  125 2013-12-22          429     410.333333\n",
            "125  126 2014-01-22          438     423.333333\n",
            "126  127 2014-02-22          442     436.000000\n",
            "127  128 2014-03-22          490     436.333333\n",
            "128  129 2014-04-22          530     456.666667\n",
            "129  130 2014-05-22          534     487.333333\n",
            "130  131 2014-06-22          564     518.000000\n",
            "131  132 2014-07-22          550     542.666667\n",
            "132  133 2014-08-22          550     549.333333\n",
            "133  134 2014-09-22          568     554.666667\n",
            "134  135 2014-10-22          561     556.000000\n",
            "135  136 2014-11-22          563     559.666667\n",
            "136  137 2014-12-22          578     564.000000\n",
            "137  138 2015-01-22          561     567.333333\n",
            "138  139 2015-02-22          584     567.333333\n",
            "139  140 2015-03-22          580     574.333333\n",
            "140  141 2015-04-22          590     575.000000\n",
            "141  142 2015-05-22          630     584.666667\n",
            "142  143 2015-06-22          610     600.000000\n",
            "143  144 2015-07-22          643     610.000000\n",
            "144  145 2015-08-22          680     627.666667\n",
            "145  146 2015-09-22          652     644.333333\n",
            "146  147 2015-10-22          664     658.333333\n",
            "147  148 2015-11-22          699     665.333333\n",
            "148  149 2015-12-22          726     671.666667\n",
            "149  150 2016-01-22          698     696.333333\n",
            "150  151 2016-02-22          716     707.666667\n",
            "151  152 2016-03-22          734     713.333333\n",
            "152  153 2016-04-22          741     716.000000\n",
            "153  154 2016-05-22          736     730.333333\n",
            "154  155 2016-06-22          745     737.000000\n",
            "155  156 2016-07-22          742     740.666667\n",
            "156  157 2016-08-22          752     741.000000\n",
            "157  158 2016-09-22          768     746.333333\n",
            "158  159 2016-10-22          757     754.000000\n",
            "159  160 2016-11-22          746     759.000000\n",
            "160  161 2016-12-22          759     757.000000\n",
            "161  162 2017-01-22          765     754.000000\n",
            "162  163 2017-02-22          780     756.666667\n",
            "163  164 2017-03-22          776     768.000000\n",
            "164  165 2017-04-22          784     773.666667\n",
            "165  166 2017-05-22          799     780.000000\n",
            "166  167 2017-06-22          821     786.333333\n",
            "167  168 2017-07-22          832     801.333333\n",
            "168  169 2017-08-22          825     817.333333\n",
            "169  170 2017-09-22          826     826.000000\n",
            "170  171 2017-10-22          829     827.666667\n",
            "171  172 2017-11-22          839     826.666667\n",
            "172  173 2017-12-22          846     831.333333\n",
            "173  174 2018-01-22          848     838.000000\n",
            "174  175 2018-02-22          853     844.333333\n",
            "175  176 2018-03-22          864     849.000000\n",
            "176  177 2018-04-22          873     855.000000\n",
            "177  178 2018-05-22          910     863.333333\n",
            "178  179 2018-06-22          943     882.333333\n",
            "179  180 2018-07-22          952     908.666667\n",
            "180  181 2018-08-22          964     935.000000\n",
            "181  182 2018-09-22          956     953.000000\n",
            "182  183 2018-10-22          964     957.333333\n",
            "183  184 2018-11-22          982     961.333333\n",
            "184  185 2018-12-22          988     967.333333\n",
            "185  186 2019-01-22         1011     978.000000\n",
            "186  187 2019-02-22         1012     993.666667\n",
            "187  188 2019-03-22         1034    1003.666667\n",
            "188  189 2019-04-22         1056    1019.000000\n",
            "189  190 2019-05-22         1058    1034.000000\n",
            "190  191 2019-06-22         1057    1049.333333\n",
            "191  192 2019-07-22         1056    1057.000000\n",
            "192  193 2019-08-22         1057    1057.000000\n",
            "193  194 2019-09-22         1059    1056.666667\n",
            "194  195 2019-10-22         1069    1057.333333\n",
            "195  196 2019-11-22         1080    1061.666667\n",
            "196  197 2019-12-22         1084    1069.333333\n",
            "197  198 2020-01-22         1083    1077.666667\n",
            "198  199 2020-02-22         1090    1082.333333\n",
            "199  200 2020-03-22         1112    1085.666667\n",
            "200  201 2020-04-22         1123    1095.000000\n",
            "201  202 2020-05-22         1126    1108.333333\n",
            "202  203 2020-06-22         1123    1120.333333\n",
            "203  204 2020-07-22         1124    1124.000000\n",
            "204  205 2020-08-22         1265    1124.333333\n",
            "205  206 2020-09-22         1458    1170.666667\n",
            "206  207 2020-10-22         1532    1282.333333\n",
            "207  208 2020-11-22         1759    1418.333333\n",
            "208  209 2020-12-22         1825    1583.000000\n",
            "209  210 2021-01-22         1980    1705.333333\n",
            "210  211 2021-02-22         2355    1854.666667\n",
            "211  212 2021-03-22         2000    2053.333333\n",
            "212  213 2021-04-22         2459    2111.666667\n",
            "213  214 2021-05-22         2679    2271.333333\n",
            "214  215 2021-06-22         2751    2379.333333\n",
            "215  216 2021-07-22         2946    2629.666667\n",
            "216  217 2021-08-22         3026    2792.000000\n",
            "217  218 2021-09-22         3249    2907.666667\n",
            "218  219 2021-10-22         3589    3073.666667\n",
            "219  220 2021-11-22         3842    3288.000000\n",
            "220  221 2021-12-22         4053    3560.000000\n",
            "221  222 2022-01-22         4293    3828.000000\n",
            "222  223 2022-02-22         4682    4062.666667\n",
            "223  224 2022-03-22         4816    4342.666667\n",
            "224  225 2022-04-22         4944    4597.000000\n",
            "225  226 2022-05-22         5649    4814.000000\n",
            "226  227 2022-06-22         5900    5136.333333\n"
          ]
        }
      ]
    },
    {
      "cell_type": "code",
      "source": [
        "plt.plot(x['tahun'], x['data aktual'], label='data aktual')\n",
        "plt.plot(x['tahun'], x['data prediksi'], label='data prediksi')\n",
        "plt.xlabel('Tahun')\n",
        "plt.ylabel('penjualan')\n",
        "plt.title('Moving Average \\n Penjualan box Sandal di tahun 2002-2022')\n",
        "plt.grid(True)\n",
        "plt.legend()"
      ],
      "metadata": {
        "colab": {
          "base_uri": "https://localhost:8080/",
          "height": 327
        },
        "id": "UtsT1Nuj_AX8",
        "outputId": "f32be726-b4a2-41f8-fcaf-34de351d3c6f"
      },
      "execution_count": null,
      "outputs": [
        {
          "output_type": "execute_result",
          "data": {
            "text/plain": [
              "<matplotlib.legend.Legend at 0x7ff6623c3e50>"
            ]
          },
          "metadata": {},
          "execution_count": 24
        },
        {
          "output_type": "display_data",
          "data": {
            "text/plain": [
              "<Figure size 432x288 with 1 Axes>"
            ],
            "image/png": "[encoded data removed]"
          },
          "metadata": {
            "needs_background": "light"
          }
        }
      ]
    }
  ]
}